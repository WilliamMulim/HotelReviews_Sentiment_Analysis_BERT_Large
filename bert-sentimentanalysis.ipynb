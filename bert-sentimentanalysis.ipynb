{
 "cells": [
  {
   "cell_type": "code",
   "execution_count": 1,
   "id": "advance-niger",
   "metadata": {
    "execution": {
     "iopub.execute_input": "2021-07-04T05:05:16.807531Z",
     "iopub.status.busy": "2021-07-04T05:05:16.806016Z",
     "iopub.status.idle": "2021-07-04T05:07:03.487045Z",
     "shell.execute_reply": "2021-07-04T05:07:03.486401Z",
     "shell.execute_reply.started": "2021-07-03T08:17:24.102028Z"
    },
    "id": "rNJyYCk1_PyF",
    "outputId": "1ab4bfe9-c17c-4b48-909c-153b6f6751f6",
    "papermill": {
     "duration": 106.701214,
     "end_time": "2021-07-04T05:07:03.487195",
     "exception": false,
     "start_time": "2021-07-04T05:05:16.785981",
     "status": "completed"
    },
    "tags": []
   },
   "outputs": [
    {
     "name": "stdout",
     "output_type": "stream",
     "text": [
      "Collecting tensorflow-text==2.4.1\r\n",
      "  Downloading tensorflow_text-2.4.1-cp37-cp37m-manylinux1_x86_64.whl (3.4 MB)\r\n",
      "\u001b[K     |████████████████████████████████| 3.4 MB 1.1 MB/s \r\n",
      "\u001b[?25hRequirement already satisfied: tensorflow-hub>=0.8.0 in /opt/conda/lib/python3.7/site-packages (from tensorflow-text==2.4.1) (0.12.0)\r\n",
      "Requirement already satisfied: tensorflow<2.5,>=2.4.0 in /opt/conda/lib/python3.7/site-packages (from tensorflow-text==2.4.1) (2.4.1)\r\n",
      "Requirement already satisfied: h5py~=2.10.0 in /opt/conda/lib/python3.7/site-packages (from tensorflow<2.5,>=2.4.0->tensorflow-text==2.4.1) (2.10.0)\r\n",
      "Requirement already satisfied: astunparse~=1.6.3 in /opt/conda/lib/python3.7/site-packages (from tensorflow<2.5,>=2.4.0->tensorflow-text==2.4.1) (1.6.3)\r\n",
      "Requirement already satisfied: protobuf>=3.9.2 in /opt/conda/lib/python3.7/site-packages (from tensorflow<2.5,>=2.4.0->tensorflow-text==2.4.1) (3.15.8)\r\n",
      "Requirement already satisfied: wrapt~=1.12.1 in /opt/conda/lib/python3.7/site-packages (from tensorflow<2.5,>=2.4.0->tensorflow-text==2.4.1) (1.12.1)\r\n",
      "Requirement already satisfied: flatbuffers~=1.12.0 in /opt/conda/lib/python3.7/site-packages (from tensorflow<2.5,>=2.4.0->tensorflow-text==2.4.1) (1.12)\r\n",
      "Requirement already satisfied: gast==0.3.3 in /opt/conda/lib/python3.7/site-packages (from tensorflow<2.5,>=2.4.0->tensorflow-text==2.4.1) (0.3.3)\r\n",
      "Requirement already satisfied: six~=1.15.0 in /opt/conda/lib/python3.7/site-packages (from tensorflow<2.5,>=2.4.0->tensorflow-text==2.4.1) (1.15.0)\r\n",
      "Requirement already satisfied: tensorflow-estimator<2.5.0,>=2.4.0 in /opt/conda/lib/python3.7/site-packages (from tensorflow<2.5,>=2.4.0->tensorflow-text==2.4.1) (2.4.0)\r\n",
      "Requirement already satisfied: wheel~=0.35 in /opt/conda/lib/python3.7/site-packages (from tensorflow<2.5,>=2.4.0->tensorflow-text==2.4.1) (0.36.2)\r\n",
      "Requirement already satisfied: numpy~=1.19.2 in /opt/conda/lib/python3.7/site-packages (from tensorflow<2.5,>=2.4.0->tensorflow-text==2.4.1) (1.19.5)\r\n",
      "Requirement already satisfied: tensorboard~=2.4 in /opt/conda/lib/python3.7/site-packages (from tensorflow<2.5,>=2.4.0->tensorflow-text==2.4.1) (2.4.1)\r\n",
      "Requirement already satisfied: keras-preprocessing~=1.1.2 in /opt/conda/lib/python3.7/site-packages (from tensorflow<2.5,>=2.4.0->tensorflow-text==2.4.1) (1.1.2)\r\n",
      "Requirement already satisfied: grpcio~=1.32.0 in /opt/conda/lib/python3.7/site-packages (from tensorflow<2.5,>=2.4.0->tensorflow-text==2.4.1) (1.32.0)\r\n",
      "Requirement already satisfied: absl-py~=0.10 in /opt/conda/lib/python3.7/site-packages (from tensorflow<2.5,>=2.4.0->tensorflow-text==2.4.1) (0.12.0)\r\n",
      "Requirement already satisfied: opt-einsum~=3.3.0 in /opt/conda/lib/python3.7/site-packages (from tensorflow<2.5,>=2.4.0->tensorflow-text==2.4.1) (3.3.0)\r\n",
      "Requirement already satisfied: google-pasta~=0.2 in /opt/conda/lib/python3.7/site-packages (from tensorflow<2.5,>=2.4.0->tensorflow-text==2.4.1) (0.2.0)\r\n",
      "Requirement already satisfied: typing-extensions~=3.7.4 in /opt/conda/lib/python3.7/site-packages (from tensorflow<2.5,>=2.4.0->tensorflow-text==2.4.1) (3.7.4.3)\r\n",
      "Requirement already satisfied: termcolor~=1.1.0 in /opt/conda/lib/python3.7/site-packages (from tensorflow<2.5,>=2.4.0->tensorflow-text==2.4.1) (1.1.0)\r\n",
      "Requirement already satisfied: setuptools>=41.0.0 in /opt/conda/lib/python3.7/site-packages (from tensorboard~=2.4->tensorflow<2.5,>=2.4.0->tensorflow-text==2.4.1) (49.6.0.post20210108)\r\n",
      "Requirement already satisfied: markdown>=2.6.8 in /opt/conda/lib/python3.7/site-packages (from tensorboard~=2.4->tensorflow<2.5,>=2.4.0->tensorflow-text==2.4.1) (3.3.4)\r\n",
      "Requirement already satisfied: tensorboard-plugin-wit>=1.6.0 in /opt/conda/lib/python3.7/site-packages (from tensorboard~=2.4->tensorflow<2.5,>=2.4.0->tensorflow-text==2.4.1) (1.8.0)\r\n",
      "Requirement already satisfied: werkzeug>=0.11.15 in /opt/conda/lib/python3.7/site-packages (from tensorboard~=2.4->tensorflow<2.5,>=2.4.0->tensorflow-text==2.4.1) (1.0.1)\r\n",
      "Requirement already satisfied: google-auth-oauthlib<0.5,>=0.4.1 in /opt/conda/lib/python3.7/site-packages (from tensorboard~=2.4->tensorflow<2.5,>=2.4.0->tensorflow-text==2.4.1) (0.4.3)\r\n",
      "Requirement already satisfied: requests<3,>=2.21.0 in /opt/conda/lib/python3.7/site-packages (from tensorboard~=2.4->tensorflow<2.5,>=2.4.0->tensorflow-text==2.4.1) (2.25.1)\r\n",
      "Requirement already satisfied: google-auth<2,>=1.6.3 in /opt/conda/lib/python3.7/site-packages (from tensorboard~=2.4->tensorflow<2.5,>=2.4.0->tensorflow-text==2.4.1) (1.26.1)\r\n",
      "Requirement already satisfied: pyasn1-modules>=0.2.1 in /opt/conda/lib/python3.7/site-packages (from google-auth<2,>=1.6.3->tensorboard~=2.4->tensorflow<2.5,>=2.4.0->tensorflow-text==2.4.1) (0.2.7)\r\n",
      "Requirement already satisfied: cachetools<5.0,>=2.0.0 in /opt/conda/lib/python3.7/site-packages (from google-auth<2,>=1.6.3->tensorboard~=2.4->tensorflow<2.5,>=2.4.0->tensorflow-text==2.4.1) (4.2.1)\r\n",
      "Requirement already satisfied: rsa<5,>=3.1.4 in /opt/conda/lib/python3.7/site-packages (from google-auth<2,>=1.6.3->tensorboard~=2.4->tensorflow<2.5,>=2.4.0->tensorflow-text==2.4.1) (4.7.2)\r\n",
      "Requirement already satisfied: requests-oauthlib>=0.7.0 in /opt/conda/lib/python3.7/site-packages (from google-auth-oauthlib<0.5,>=0.4.1->tensorboard~=2.4->tensorflow<2.5,>=2.4.0->tensorflow-text==2.4.1) (1.3.0)\r\n",
      "Requirement already satisfied: importlib-metadata in /opt/conda/lib/python3.7/site-packages (from markdown>=2.6.8->tensorboard~=2.4->tensorflow<2.5,>=2.4.0->tensorflow-text==2.4.1) (3.4.0)\r\n",
      "Requirement already satisfied: pyasn1<0.5.0,>=0.4.6 in /opt/conda/lib/python3.7/site-packages (from pyasn1-modules>=0.2.1->google-auth<2,>=1.6.3->tensorboard~=2.4->tensorflow<2.5,>=2.4.0->tensorflow-text==2.4.1) (0.4.8)\r\n",
      "Requirement already satisfied: certifi>=2017.4.17 in /opt/conda/lib/python3.7/site-packages (from requests<3,>=2.21.0->tensorboard~=2.4->tensorflow<2.5,>=2.4.0->tensorflow-text==2.4.1) (2020.12.5)\r\n",
      "Requirement already satisfied: idna<3,>=2.5 in /opt/conda/lib/python3.7/site-packages (from requests<3,>=2.21.0->tensorboard~=2.4->tensorflow<2.5,>=2.4.0->tensorflow-text==2.4.1) (2.10)\r\n",
      "Requirement already satisfied: urllib3<1.27,>=1.21.1 in /opt/conda/lib/python3.7/site-packages (from requests<3,>=2.21.0->tensorboard~=2.4->tensorflow<2.5,>=2.4.0->tensorflow-text==2.4.1) (1.26.4)\r\n",
      "Requirement already satisfied: chardet<5,>=3.0.2 in /opt/conda/lib/python3.7/site-packages (from requests<3,>=2.21.0->tensorboard~=2.4->tensorflow<2.5,>=2.4.0->tensorflow-text==2.4.1) (4.0.0)\r\n",
      "Requirement already satisfied: oauthlib>=3.0.0 in /opt/conda/lib/python3.7/site-packages (from requests-oauthlib>=0.7.0->google-auth-oauthlib<0.5,>=0.4.1->tensorboard~=2.4->tensorflow<2.5,>=2.4.0->tensorflow-text==2.4.1) (3.0.1)\r\n",
      "Requirement already satisfied: zipp>=0.5 in /opt/conda/lib/python3.7/site-packages (from importlib-metadata->markdown>=2.6.8->tensorboard~=2.4->tensorflow<2.5,>=2.4.0->tensorflow-text==2.4.1) (3.4.1)\r\n",
      "Installing collected packages: tensorflow-text\r\n",
      "Successfully installed tensorflow-text-2.4.1\r\n",
      "Collecting tensorflow==2.4.0\r\n",
      "  Downloading tensorflow-2.4.0-cp37-cp37m-manylinux2010_x86_64.whl (394.7 MB)\r\n",
      "\u001b[K     |████████████████████████████████| 394.7 MB 13 kB/s \r\n",
      "\u001b[?25hRequirement already satisfied: wheel~=0.35 in /opt/conda/lib/python3.7/site-packages (from tensorflow==2.4.0) (0.36.2)\r\n",
      "Requirement already satisfied: numpy~=1.19.2 in /opt/conda/lib/python3.7/site-packages (from tensorflow==2.4.0) (1.19.5)\r\n",
      "Requirement already satisfied: flatbuffers~=1.12.0 in /opt/conda/lib/python3.7/site-packages (from tensorflow==2.4.0) (1.12)\r\n",
      "Requirement already satisfied: gast==0.3.3 in /opt/conda/lib/python3.7/site-packages (from tensorflow==2.4.0) (0.3.3)\r\n",
      "Requirement already satisfied: protobuf>=3.9.2 in /opt/conda/lib/python3.7/site-packages (from tensorflow==2.4.0) (3.15.8)\r\n",
      "Requirement already satisfied: termcolor~=1.1.0 in /opt/conda/lib/python3.7/site-packages (from tensorflow==2.4.0) (1.1.0)\r\n",
      "Requirement already satisfied: absl-py~=0.10 in /opt/conda/lib/python3.7/site-packages (from tensorflow==2.4.0) (0.12.0)\r\n",
      "Requirement already satisfied: tensorboard~=2.4 in /opt/conda/lib/python3.7/site-packages (from tensorflow==2.4.0) (2.4.1)\r\n",
      "Requirement already satisfied: keras-preprocessing~=1.1.2 in /opt/conda/lib/python3.7/site-packages (from tensorflow==2.4.0) (1.1.2)\r\n",
      "Requirement already satisfied: grpcio~=1.32.0 in /opt/conda/lib/python3.7/site-packages (from tensorflow==2.4.0) (1.32.0)\r\n",
      "Requirement already satisfied: astunparse~=1.6.3 in /opt/conda/lib/python3.7/site-packages (from tensorflow==2.4.0) (1.6.3)\r\n",
      "Requirement already satisfied: wrapt~=1.12.1 in /opt/conda/lib/python3.7/site-packages (from tensorflow==2.4.0) (1.12.1)\r\n",
      "Requirement already satisfied: h5py~=2.10.0 in /opt/conda/lib/python3.7/site-packages (from tensorflow==2.4.0) (2.10.0)\r\n",
      "Requirement already satisfied: google-pasta~=0.2 in /opt/conda/lib/python3.7/site-packages (from tensorflow==2.4.0) (0.2.0)\r\n",
      "Requirement already satisfied: opt-einsum~=3.3.0 in /opt/conda/lib/python3.7/site-packages (from tensorflow==2.4.0) (3.3.0)\r\n",
      "Requirement already satisfied: six~=1.15.0 in /opt/conda/lib/python3.7/site-packages (from tensorflow==2.4.0) (1.15.0)\r\n",
      "Requirement already satisfied: typing-extensions~=3.7.4 in /opt/conda/lib/python3.7/site-packages (from tensorflow==2.4.0) (3.7.4.3)\r\n",
      "Requirement already satisfied: tensorflow-estimator<2.5.0,>=2.4.0rc0 in /opt/conda/lib/python3.7/site-packages (from tensorflow==2.4.0) (2.4.0)\r\n",
      "Requirement already satisfied: tensorboard-plugin-wit>=1.6.0 in /opt/conda/lib/python3.7/site-packages (from tensorboard~=2.4->tensorflow==2.4.0) (1.8.0)\r\n",
      "Requirement already satisfied: requests<3,>=2.21.0 in /opt/conda/lib/python3.7/site-packages (from tensorboard~=2.4->tensorflow==2.4.0) (2.25.1)\r\n",
      "Requirement already satisfied: werkzeug>=0.11.15 in /opt/conda/lib/python3.7/site-packages (from tensorboard~=2.4->tensorflow==2.4.0) (1.0.1)\r\n",
      "Requirement already satisfied: google-auth<2,>=1.6.3 in /opt/conda/lib/python3.7/site-packages (from tensorboard~=2.4->tensorflow==2.4.0) (1.26.1)\r\n",
      "Requirement already satisfied: setuptools>=41.0.0 in /opt/conda/lib/python3.7/site-packages (from tensorboard~=2.4->tensorflow==2.4.0) (49.6.0.post20210108)\r\n",
      "Requirement already satisfied: google-auth-oauthlib<0.5,>=0.4.1 in /opt/conda/lib/python3.7/site-packages (from tensorboard~=2.4->tensorflow==2.4.0) (0.4.3)\r\n",
      "Requirement already satisfied: markdown>=2.6.8 in /opt/conda/lib/python3.7/site-packages (from tensorboard~=2.4->tensorflow==2.4.0) (3.3.4)\r\n",
      "Requirement already satisfied: cachetools<5.0,>=2.0.0 in /opt/conda/lib/python3.7/site-packages (from google-auth<2,>=1.6.3->tensorboard~=2.4->tensorflow==2.4.0) (4.2.1)\r\n",
      "Requirement already satisfied: rsa<5,>=3.1.4 in /opt/conda/lib/python3.7/site-packages (from google-auth<2,>=1.6.3->tensorboard~=2.4->tensorflow==2.4.0) (4.7.2)\r\n",
      "Requirement already satisfied: pyasn1-modules>=0.2.1 in /opt/conda/lib/python3.7/site-packages (from google-auth<2,>=1.6.3->tensorboard~=2.4->tensorflow==2.4.0) (0.2.7)\r\n",
      "Requirement already satisfied: requests-oauthlib>=0.7.0 in /opt/conda/lib/python3.7/site-packages (from google-auth-oauthlib<0.5,>=0.4.1->tensorboard~=2.4->tensorflow==2.4.0) (1.3.0)\r\n",
      "Requirement already satisfied: importlib-metadata in /opt/conda/lib/python3.7/site-packages (from markdown>=2.6.8->tensorboard~=2.4->tensorflow==2.4.0) (3.4.0)\r\n",
      "Requirement already satisfied: pyasn1<0.5.0,>=0.4.6 in /opt/conda/lib/python3.7/site-packages (from pyasn1-modules>=0.2.1->google-auth<2,>=1.6.3->tensorboard~=2.4->tensorflow==2.4.0) (0.4.8)\r\n",
      "Requirement already satisfied: certifi>=2017.4.17 in /opt/conda/lib/python3.7/site-packages (from requests<3,>=2.21.0->tensorboard~=2.4->tensorflow==2.4.0) (2020.12.5)\r\n",
      "Requirement already satisfied: idna<3,>=2.5 in /opt/conda/lib/python3.7/site-packages (from requests<3,>=2.21.0->tensorboard~=2.4->tensorflow==2.4.0) (2.10)\r\n",
      "Requirement already satisfied: urllib3<1.27,>=1.21.1 in /opt/conda/lib/python3.7/site-packages (from requests<3,>=2.21.0->tensorboard~=2.4->tensorflow==2.4.0) (1.26.4)\r\n",
      "Requirement already satisfied: chardet<5,>=3.0.2 in /opt/conda/lib/python3.7/site-packages (from requests<3,>=2.21.0->tensorboard~=2.4->tensorflow==2.4.0) (4.0.0)\r\n",
      "Requirement already satisfied: oauthlib>=3.0.0 in /opt/conda/lib/python3.7/site-packages (from requests-oauthlib>=0.7.0->google-auth-oauthlib<0.5,>=0.4.1->tensorboard~=2.4->tensorflow==2.4.0) (3.0.1)\r\n",
      "Requirement already satisfied: zipp>=0.5 in /opt/conda/lib/python3.7/site-packages (from importlib-metadata->markdown>=2.6.8->tensorboard~=2.4->tensorflow==2.4.0) (3.4.1)\r\n",
      "Installing collected packages: tensorflow\r\n",
      "  Attempting uninstall: tensorflow\r\n",
      "    Found existing installation: tensorflow 2.4.1\r\n",
      "    Uninstalling tensorflow-2.4.1:\r\n",
      "      Successfully uninstalled tensorflow-2.4.1\r\n",
      "Successfully installed tensorflow-2.4.0\r\n",
      "Requirement already satisfied: tensorflow-addons in /opt/conda/lib/python3.7/site-packages (0.12.1)\r\n",
      "Requirement already satisfied: typeguard>=2.7 in /opt/conda/lib/python3.7/site-packages (from tensorflow-addons) (2.12.0)\r\n",
      "Requirement already satisfied: keras in /opt/conda/lib/python3.7/site-packages (2.4.3)\r\n",
      "Requirement already satisfied: numpy>=1.9.1 in /opt/conda/lib/python3.7/site-packages (from keras) (1.19.5)\r\n",
      "Requirement already satisfied: h5py in /opt/conda/lib/python3.7/site-packages (from keras) (2.10.0)\r\n",
      "Requirement already satisfied: pyyaml in /opt/conda/lib/python3.7/site-packages (from keras) (5.3.1)\r\n",
      "Requirement already satisfied: scipy>=0.14 in /opt/conda/lib/python3.7/site-packages (from keras) (1.5.4)\r\n",
      "Requirement already satisfied: six in /opt/conda/lib/python3.7/site-packages (from h5py->keras) (1.15.0)\r\n",
      "Requirement already satisfied: pandas in /opt/conda/lib/python3.7/site-packages (1.1.5)\r\n",
      "Requirement already satisfied: python-dateutil>=2.7.3 in /opt/conda/lib/python3.7/site-packages (from pandas) (2.8.1)\r\n",
      "Requirement already satisfied: pytz>=2017.2 in /opt/conda/lib/python3.7/site-packages (from pandas) (2021.1)\r\n",
      "Requirement already satisfied: numpy>=1.15.4 in /opt/conda/lib/python3.7/site-packages (from pandas) (1.19.5)\r\n",
      "Requirement already satisfied: six>=1.5 in /opt/conda/lib/python3.7/site-packages (from python-dateutil>=2.7.3->pandas) (1.15.0)\r\n",
      "Requirement already satisfied: scikit-learn in /opt/conda/lib/python3.7/site-packages (0.24.1)\r\n",
      "Requirement already satisfied: numpy>=1.13.3 in /opt/conda/lib/python3.7/site-packages (from scikit-learn) (1.19.5)\r\n",
      "Requirement already satisfied: threadpoolctl>=2.0.0 in /opt/conda/lib/python3.7/site-packages (from scikit-learn) (2.1.0)\r\n",
      "Requirement already satisfied: scipy>=0.19.1 in /opt/conda/lib/python3.7/site-packages (from scikit-learn) (1.5.4)\r\n",
      "Requirement already satisfied: joblib>=0.11 in /opt/conda/lib/python3.7/site-packages (from scikit-learn) (1.0.1)\r\n",
      "Collecting tf-models-official==2.4.0\r\n",
      "  Downloading tf_models_official-2.4.0-py2.py3-none-any.whl (1.1 MB)\r\n",
      "\u001b[K     |████████████████████████████████| 1.1 MB 1.2 MB/s \r\n",
      "\u001b[?25hRequirement already satisfied: pandas>=0.22.0 in /opt/conda/lib/python3.7/site-packages (from tf-models-official==2.4.0) (1.1.5)\r\n",
      "Requirement already satisfied: numpy>=1.15.4 in /opt/conda/lib/python3.7/site-packages (from tf-models-official==2.4.0) (1.19.5)\r\n",
      "Collecting pycocotools\r\n",
      "  Downloading pycocotools-2.0.2.tar.gz (23 kB)\r\n",
      "Requirement already satisfied: opencv-python-headless in /opt/conda/lib/python3.7/site-packages (from tf-models-official==2.4.0) (4.5.1.48)\r\n",
      "Requirement already satisfied: tensorflow-hub>=0.6.0 in /opt/conda/lib/python3.7/site-packages (from tf-models-official==2.4.0) (0.12.0)\r\n",
      "Requirement already satisfied: sentencepiece in /opt/conda/lib/python3.7/site-packages (from tf-models-official==2.4.0) (0.1.95)\r\n",
      "Requirement already satisfied: six in /opt/conda/lib/python3.7/site-packages (from tf-models-official==2.4.0) (1.15.0)\r\n",
      "Collecting gin-config\r\n",
      "  Downloading gin_config-0.4.0-py2.py3-none-any.whl (46 kB)\r\n",
      "\u001b[K     |████████████████████████████████| 46 kB 2.5 MB/s \r\n",
      "\u001b[?25hCollecting py-cpuinfo>=3.3.0\r\n",
      "  Downloading py-cpuinfo-8.0.0.tar.gz (99 kB)\r\n",
      "\u001b[K     |████████████████████████████████| 99 kB 4.1 MB/s \r\n",
      "\u001b[?25hRequirement already satisfied: pyyaml>=5.1 in /opt/conda/lib/python3.7/site-packages (from tf-models-official==2.4.0) (5.3.1)\r\n",
      "Requirement already satisfied: google-api-python-client>=1.6.7 in /opt/conda/lib/python3.7/site-packages (from tf-models-official==2.4.0) (1.8.0)\r\n",
      "Collecting tf-slim>=1.1.0\r\n",
      "  Downloading tf_slim-1.1.0-py2.py3-none-any.whl (352 kB)\r\n",
      "\u001b[K     |████████████████████████████████| 352 kB 5.9 MB/s \r\n",
      "\u001b[?25hRequirement already satisfied: Cython in /opt/conda/lib/python3.7/site-packages (from tf-models-official==2.4.0) (0.29.23)\r\n",
      "Requirement already satisfied: tensorflow-datasets in /opt/conda/lib/python3.7/site-packages (from tf-models-official==2.4.0) (3.0.0)\r\n",
      "Collecting seqeval\r\n",
      "  Downloading seqeval-1.2.2.tar.gz (43 kB)\r\n",
      "\u001b[K     |████████████████████████████████| 43 kB 1.6 MB/s \r\n",
      "\u001b[?25hRequirement already satisfied: psutil>=5.4.3 in /opt/conda/lib/python3.7/site-packages (from tf-models-official==2.4.0) (5.8.0)\r\n",
      "Requirement already satisfied: kaggle>=1.3.9 in /opt/conda/lib/python3.7/site-packages (from tf-models-official==2.4.0) (1.5.12)\r\n",
      "Requirement already satisfied: google-cloud-bigquery>=0.31.0 in /opt/conda/lib/python3.7/site-packages (from tf-models-official==2.4.0) (2.2.0)\r\n",
      "Requirement already satisfied: dataclasses in /opt/conda/lib/python3.7/site-packages (from tf-models-official==2.4.0) (0.6)\r\n",
      "Requirement already satisfied: oauth2client in /opt/conda/lib/python3.7/site-packages (from tf-models-official==2.4.0) (4.1.3)\r\n",
      "Requirement already satisfied: tensorflow-addons in /opt/conda/lib/python3.7/site-packages (from tf-models-official==2.4.0) (0.12.1)\r\n",
      "Requirement already satisfied: matplotlib in /opt/conda/lib/python3.7/site-packages (from tf-models-official==2.4.0) (3.4.1)\r\n",
      "Requirement already satisfied: tensorflow>=2.4.0 in /opt/conda/lib/python3.7/site-packages (from tf-models-official==2.4.0) (2.4.0)\r\n",
      "Requirement already satisfied: scipy>=0.19.1 in /opt/conda/lib/python3.7/site-packages (from tf-models-official==2.4.0) (1.5.4)\r\n",
      "Collecting tensorflow-model-optimization>=0.4.1\r\n",
      "  Downloading tensorflow_model_optimization-0.6.0-py2.py3-none-any.whl (211 kB)\r\n",
      "\u001b[K     |████████████████████████████████| 211 kB 6.3 MB/s \r\n",
      "\u001b[?25hRequirement already satisfied: Pillow in /opt/conda/lib/python3.7/site-packages (from tf-models-official==2.4.0) (7.2.0)\r\n",
      "Requirement already satisfied: google-api-core<2dev,>=1.13.0 in /opt/conda/lib/python3.7/site-packages (from google-api-python-client>=1.6.7->tf-models-official==2.4.0) (1.26.2)\r\n",
      "Requirement already satisfied: httplib2<1dev,>=0.9.2 in /opt/conda/lib/python3.7/site-packages (from google-api-python-client>=1.6.7->tf-models-official==2.4.0) (0.19.0)\r\n",
      "Requirement already satisfied: uritemplate<4dev,>=3.0.0 in /opt/conda/lib/python3.7/site-packages (from google-api-python-client>=1.6.7->tf-models-official==2.4.0) (3.0.1)\r\n",
      "Requirement already satisfied: google-auth-httplib2>=0.0.3 in /opt/conda/lib/python3.7/site-packages (from google-api-python-client>=1.6.7->tf-models-official==2.4.0) (0.0.4)\r\n",
      "Requirement already satisfied: google-auth>=1.4.1 in /opt/conda/lib/python3.7/site-packages (from google-api-python-client>=1.6.7->tf-models-official==2.4.0) (1.26.1)\r\n",
      "Requirement already satisfied: pytz in /opt/conda/lib/python3.7/site-packages (from google-api-core<2dev,>=1.13.0->google-api-python-client>=1.6.7->tf-models-official==2.4.0) (2021.1)\r\n",
      "Requirement already satisfied: requests<3.0.0dev,>=2.18.0 in /opt/conda/lib/python3.7/site-packages (from google-api-core<2dev,>=1.13.0->google-api-python-client>=1.6.7->tf-models-official==2.4.0) (2.25.1)\r\n",
      "Requirement already satisfied: setuptools>=40.3.0 in /opt/conda/lib/python3.7/site-packages (from google-api-core<2dev,>=1.13.0->google-api-python-client>=1.6.7->tf-models-official==2.4.0) (49.6.0.post20210108)\r\n",
      "Requirement already satisfied: googleapis-common-protos<2.0dev,>=1.6.0 in /opt/conda/lib/python3.7/site-packages (from google-api-core<2dev,>=1.13.0->google-api-python-client>=1.6.7->tf-models-official==2.4.0) (1.53.0)\r\n",
      "Requirement already satisfied: protobuf>=3.12.0 in /opt/conda/lib/python3.7/site-packages (from google-api-core<2dev,>=1.13.0->google-api-python-client>=1.6.7->tf-models-official==2.4.0) (3.15.8)\r\n",
      "Requirement already satisfied: packaging>=14.3 in /opt/conda/lib/python3.7/site-packages (from google-api-core<2dev,>=1.13.0->google-api-python-client>=1.6.7->tf-models-official==2.4.0) (20.9)\r\n",
      "Requirement already satisfied: rsa<5,>=3.1.4 in /opt/conda/lib/python3.7/site-packages (from google-auth>=1.4.1->google-api-python-client>=1.6.7->tf-models-official==2.4.0) (4.7.2)\r\n",
      "Requirement already satisfied: cachetools<5.0,>=2.0.0 in /opt/conda/lib/python3.7/site-packages (from google-auth>=1.4.1->google-api-python-client>=1.6.7->tf-models-official==2.4.0) (4.2.1)\r\n",
      "Requirement already satisfied: pyasn1-modules>=0.2.1 in /opt/conda/lib/python3.7/site-packages (from google-auth>=1.4.1->google-api-python-client>=1.6.7->tf-models-official==2.4.0) (0.2.7)\r\n",
      "Requirement already satisfied: proto-plus>=1.10.0 in /opt/conda/lib/python3.7/site-packages (from google-cloud-bigquery>=0.31.0->tf-models-official==2.4.0) (1.18.1)\r\n",
      "Requirement already satisfied: google-resumable-media<2.0dev,>=0.6.0 in /opt/conda/lib/python3.7/site-packages (from google-cloud-bigquery>=0.31.0->tf-models-official==2.4.0) (1.2.0)\r\n",
      "Requirement already satisfied: google-cloud-core<2.0dev,>=1.4.1 in /opt/conda/lib/python3.7/site-packages (from google-cloud-bigquery>=0.31.0->tf-models-official==2.4.0) (1.6.0)\r\n",
      "Requirement already satisfied: grpcio<2.0dev,>=1.29.0 in /opt/conda/lib/python3.7/site-packages (from google-api-core<2dev,>=1.13.0->google-api-python-client>=1.6.7->tf-models-official==2.4.0) (1.32.0)\r\n",
      "Requirement already satisfied: google-crc32c<2.0dev,>=1.0 in /opt/conda/lib/python3.7/site-packages (from google-resumable-media<2.0dev,>=0.6.0->google-cloud-bigquery>=0.31.0->tf-models-official==2.4.0) (1.1.2)\r\n",
      "Requirement already satisfied: cffi>=1.0.0 in /opt/conda/lib/python3.7/site-packages (from google-crc32c<2.0dev,>=1.0->google-resumable-media<2.0dev,>=0.6.0->google-cloud-bigquery>=0.31.0->tf-models-official==2.4.0) (1.14.5)\r\n",
      "Requirement already satisfied: pycparser in /opt/conda/lib/python3.7/site-packages (from cffi>=1.0.0->google-crc32c<2.0dev,>=1.0->google-resumable-media<2.0dev,>=0.6.0->google-cloud-bigquery>=0.31.0->tf-models-official==2.4.0) (2.20)\r\n",
      "Requirement already satisfied: pyparsing<3,>=2.4.2 in /opt/conda/lib/python3.7/site-packages (from httplib2<1dev,>=0.9.2->google-api-python-client>=1.6.7->tf-models-official==2.4.0) (2.4.7)\r\n",
      "Requirement already satisfied: python-slugify in /opt/conda/lib/python3.7/site-packages (from kaggle>=1.3.9->tf-models-official==2.4.0) (4.0.1)\r\n",
      "Requirement already satisfied: python-dateutil in /opt/conda/lib/python3.7/site-packages (from kaggle>=1.3.9->tf-models-official==2.4.0) (2.8.1)\r\n",
      "Requirement already satisfied: tqdm in /opt/conda/lib/python3.7/site-packages (from kaggle>=1.3.9->tf-models-official==2.4.0) (4.59.0)\r\n",
      "Requirement already satisfied: urllib3 in /opt/conda/lib/python3.7/site-packages (from kaggle>=1.3.9->tf-models-official==2.4.0) (1.26.4)\r\n",
      "Requirement already satisfied: certifi in /opt/conda/lib/python3.7/site-packages (from kaggle>=1.3.9->tf-models-official==2.4.0) (2020.12.5)\r\n",
      "Requirement already satisfied: pyasn1<0.5.0,>=0.4.6 in /opt/conda/lib/python3.7/site-packages (from pyasn1-modules>=0.2.1->google-auth>=1.4.1->google-api-python-client>=1.6.7->tf-models-official==2.4.0) (0.4.8)\r\n",
      "Requirement already satisfied: chardet<5,>=3.0.2 in /opt/conda/lib/python3.7/site-packages (from requests<3.0.0dev,>=2.18.0->google-api-core<2dev,>=1.13.0->google-api-python-client>=1.6.7->tf-models-official==2.4.0) (4.0.0)\r\n",
      "Requirement already satisfied: idna<3,>=2.5 in /opt/conda/lib/python3.7/site-packages (from requests<3.0.0dev,>=2.18.0->google-api-core<2dev,>=1.13.0->google-api-python-client>=1.6.7->tf-models-official==2.4.0) (2.10)\r\n",
      "Requirement already satisfied: opt-einsum~=3.3.0 in /opt/conda/lib/python3.7/site-packages (from tensorflow>=2.4.0->tf-models-official==2.4.0) (3.3.0)\r\n",
      "Requirement already satisfied: google-pasta~=0.2 in /opt/conda/lib/python3.7/site-packages (from tensorflow>=2.4.0->tf-models-official==2.4.0) (0.2.0)\r\n",
      "Requirement already satisfied: wrapt~=1.12.1 in /opt/conda/lib/python3.7/site-packages (from tensorflow>=2.4.0->tf-models-official==2.4.0) (1.12.1)\r\n",
      "Requirement already satisfied: absl-py~=0.10 in /opt/conda/lib/python3.7/site-packages (from tensorflow>=2.4.0->tf-models-official==2.4.0) (0.12.0)\r\n",
      "Requirement already satisfied: typing-extensions~=3.7.4 in /opt/conda/lib/python3.7/site-packages (from tensorflow>=2.4.0->tf-models-official==2.4.0) (3.7.4.3)\r\n",
      "Requirement already satisfied: astunparse~=1.6.3 in /opt/conda/lib/python3.7/site-packages (from tensorflow>=2.4.0->tf-models-official==2.4.0) (1.6.3)\r\n",
      "Requirement already satisfied: termcolor~=1.1.0 in /opt/conda/lib/python3.7/site-packages (from tensorflow>=2.4.0->tf-models-official==2.4.0) (1.1.0)\r\n",
      "Requirement already satisfied: keras-preprocessing~=1.1.2 in /opt/conda/lib/python3.7/site-packages (from tensorflow>=2.4.0->tf-models-official==2.4.0) (1.1.2)\r\n",
      "Requirement already satisfied: gast==0.3.3 in /opt/conda/lib/python3.7/site-packages (from tensorflow>=2.4.0->tf-models-official==2.4.0) (0.3.3)\r\n",
      "Requirement already satisfied: tensorflow-estimator<2.5.0,>=2.4.0rc0 in /opt/conda/lib/python3.7/site-packages (from tensorflow>=2.4.0->tf-models-official==2.4.0) (2.4.0)\r\n",
      "Requirement already satisfied: flatbuffers~=1.12.0 in /opt/conda/lib/python3.7/site-packages (from tensorflow>=2.4.0->tf-models-official==2.4.0) (1.12)\r\n",
      "Requirement already satisfied: tensorboard~=2.4 in /opt/conda/lib/python3.7/site-packages (from tensorflow>=2.4.0->tf-models-official==2.4.0) (2.4.1)\r\n",
      "Requirement already satisfied: wheel~=0.35 in /opt/conda/lib/python3.7/site-packages (from tensorflow>=2.4.0->tf-models-official==2.4.0) (0.36.2)\r\n",
      "Requirement already satisfied: h5py~=2.10.0 in /opt/conda/lib/python3.7/site-packages (from tensorflow>=2.4.0->tf-models-official==2.4.0) (2.10.0)\r\n",
      "Requirement already satisfied: markdown>=2.6.8 in /opt/conda/lib/python3.7/site-packages (from tensorboard~=2.4->tensorflow>=2.4.0->tf-models-official==2.4.0) (3.3.4)\r\n",
      "Requirement already satisfied: tensorboard-plugin-wit>=1.6.0 in /opt/conda/lib/python3.7/site-packages (from tensorboard~=2.4->tensorflow>=2.4.0->tf-models-official==2.4.0) (1.8.0)\r\n",
      "Requirement already satisfied: google-auth-oauthlib<0.5,>=0.4.1 in /opt/conda/lib/python3.7/site-packages (from tensorboard~=2.4->tensorflow>=2.4.0->tf-models-official==2.4.0) (0.4.3)\r\n",
      "Requirement already satisfied: werkzeug>=0.11.15 in /opt/conda/lib/python3.7/site-packages (from tensorboard~=2.4->tensorflow>=2.4.0->tf-models-official==2.4.0) (1.0.1)\r\n",
      "Requirement already satisfied: requests-oauthlib>=0.7.0 in /opt/conda/lib/python3.7/site-packages (from google-auth-oauthlib<0.5,>=0.4.1->tensorboard~=2.4->tensorflow>=2.4.0->tf-models-official==2.4.0) (1.3.0)\r\n",
      "Requirement already satisfied: importlib-metadata in /opt/conda/lib/python3.7/site-packages (from markdown>=2.6.8->tensorboard~=2.4->tensorflow>=2.4.0->tf-models-official==2.4.0) (3.4.0)\r\n",
      "Requirement already satisfied: oauthlib>=3.0.0 in /opt/conda/lib/python3.7/site-packages (from requests-oauthlib>=0.7.0->google-auth-oauthlib<0.5,>=0.4.1->tensorboard~=2.4->tensorflow>=2.4.0->tf-models-official==2.4.0) (3.0.1)\r\n",
      "Requirement already satisfied: dm-tree~=0.1.1 in /opt/conda/lib/python3.7/site-packages (from tensorflow-model-optimization>=0.4.1->tf-models-official==2.4.0) (0.1.6)\r\n",
      "Requirement already satisfied: zipp>=0.5 in /opt/conda/lib/python3.7/site-packages (from importlib-metadata->markdown>=2.6.8->tensorboard~=2.4->tensorflow>=2.4.0->tf-models-official==2.4.0) (3.4.1)\r\n",
      "Requirement already satisfied: cycler>=0.10 in /opt/conda/lib/python3.7/site-packages (from matplotlib->tf-models-official==2.4.0) (0.10.0)\r\n",
      "Requirement already satisfied: kiwisolver>=1.0.1 in /opt/conda/lib/python3.7/site-packages (from matplotlib->tf-models-official==2.4.0) (1.3.1)\r\n",
      "Requirement already satisfied: text-unidecode>=1.3 in /opt/conda/lib/python3.7/site-packages (from python-slugify->kaggle>=1.3.9->tf-models-official==2.4.0) (1.3)\r\n",
      "Requirement already satisfied: scikit-learn>=0.21.3 in /opt/conda/lib/python3.7/site-packages (from seqeval->tf-models-official==2.4.0) (0.24.1)\r\n",
      "Requirement already satisfied: joblib>=0.11 in /opt/conda/lib/python3.7/site-packages (from scikit-learn>=0.21.3->seqeval->tf-models-official==2.4.0) (1.0.1)\r\n",
      "Requirement already satisfied: threadpoolctl>=2.0.0 in /opt/conda/lib/python3.7/site-packages (from scikit-learn>=0.21.3->seqeval->tf-models-official==2.4.0) (2.1.0)\r\n",
      "Requirement already satisfied: typeguard>=2.7 in /opt/conda/lib/python3.7/site-packages (from tensorflow-addons->tf-models-official==2.4.0) (2.12.0)\r\n",
      "Requirement already satisfied: attrs>=18.1.0 in /opt/conda/lib/python3.7/site-packages (from tensorflow-datasets->tf-models-official==2.4.0) (20.3.0)\r\n",
      "Requirement already satisfied: promise in /opt/conda/lib/python3.7/site-packages (from tensorflow-datasets->tf-models-official==2.4.0) (2.3)\r\n",
      "Requirement already satisfied: tensorflow-metadata in /opt/conda/lib/python3.7/site-packages (from tensorflow-datasets->tf-models-official==2.4.0) (0.29.0)\r\n",
      "Requirement already satisfied: future in /opt/conda/lib/python3.7/site-packages (from tensorflow-datasets->tf-models-official==2.4.0) (0.18.2)\r\n",
      "Requirement already satisfied: dill in /opt/conda/lib/python3.7/site-packages (from tensorflow-datasets->tf-models-official==2.4.0) (0.3.3)\r\n",
      "Building wheels for collected packages: py-cpuinfo, pycocotools, seqeval\r\n",
      "  Building wheel for py-cpuinfo (setup.py) ... \u001b[?25l-\b \b\\\b \bdone\r\n",
      "\u001b[?25h  Created wheel for py-cpuinfo: filename=py_cpuinfo-8.0.0-py3-none-any.whl size=22245 sha256=cdc8c8e12cee06e80a5d685c4daabe1625ad6e78618fb2987865522e1fffb748\r\n",
      "  Stored in directory: /root/.cache/pip/wheels/d2/f1/1f/041add21dc9c4220157f1bd2bd6afe1f1a49524c3396b94401\r\n",
      "  Building wheel for pycocotools (setup.py) ... \u001b[?25l-\b \b\\\b \b|\b \b/\b \b-\b \b\\\b \b|\b \b/\b \bdone\r\n",
      "\u001b[?25h  Created wheel for pycocotools: filename=pycocotools-2.0.2-cp37-cp37m-linux_x86_64.whl size=272445 sha256=e2b884e5d205ec0276334cd7f2e65ad6920b784d3abaad16fe88c934402b491b\r\n",
      "  Stored in directory: /root/.cache/pip/wheels/bc/cf/1b/e95c99c5f9d1648be3f500ca55e7ce55f24818b0f48336adaf\r\n",
      "  Building wheel for seqeval (setup.py) ... \u001b[?25l-\b \bdone\r\n",
      "\u001b[?25h  Created wheel for seqeval: filename=seqeval-1.2.2-py3-none-any.whl size=16170 sha256=63e8821404990e39d3d7c750025e69fcdc212f68a09a42221c4cfcc158484092\r\n",
      "  Stored in directory: /root/.cache/pip/wheels/05/96/ee/7cac4e74f3b19e3158dce26a20a1c86b3533c43ec72a549fd7\r\n",
      "Successfully built py-cpuinfo pycocotools seqeval\r\n",
      "Installing collected packages: tf-slim, tensorflow-model-optimization, seqeval, pycocotools, py-cpuinfo, gin-config, tf-models-official\r\n",
      "Successfully installed gin-config-0.4.0 py-cpuinfo-8.0.0 pycocotools-2.0.2 seqeval-1.2.2 tensorflow-model-optimization-0.6.0 tf-models-official-2.4.0 tf-slim-1.1.0\r\n"
     ]
    }
   ],
   "source": [
    "!pip install tensorflow-text==2.4.1\n",
    "!pip install tensorflow==2.4.0\n",
    "!pip install tensorflow-addons \n",
    "!pip install keras\n",
    "!pip install pandas\n",
    "!pip install scikit-learn\n",
    "!pip install tf-models-official==2.4.0"
   ]
  },
  {
   "cell_type": "code",
   "execution_count": 2,
   "id": "fourth-payroll",
   "metadata": {
    "execution": {
     "iopub.execute_input": "2021-07-04T05:07:03.848644Z",
     "iopub.status.busy": "2021-07-04T05:07:03.847838Z",
     "iopub.status.idle": "2021-07-04T05:07:07.169288Z",
     "shell.execute_reply": "2021-07-04T05:07:07.168388Z",
     "shell.execute_reply.started": "2021-07-03T08:19:16.782044Z"
    },
    "id": "vsDXF_-X6-A6",
    "papermill": {
     "duration": 3.505169,
     "end_time": "2021-07-04T05:07:07.169471",
     "exception": false,
     "start_time": "2021-07-04T05:07:03.664302",
     "status": "completed"
    },
    "tags": []
   },
   "outputs": [],
   "source": [
    "import tensorflow as tf\n",
    "import tensorflow_addons as tfa\n",
    "import numpy as np\n",
    "import tensorflow_hub as tf_hub\n",
    "import tensorflow_text as tf_text\n",
    "import pandas as pd\n",
    "from sklearn.model_selection import train_test_split\n",
    "from sklearn.preprocessing import OneHotEncoder\n",
    "from official.nlp import optimization"
   ]
  },
  {
   "cell_type": "code",
   "execution_count": 3,
   "id": "medical-manual",
   "metadata": {
    "execution": {
     "iopub.execute_input": "2021-07-04T05:07:07.516253Z",
     "iopub.status.busy": "2021-07-04T05:07:07.515386Z",
     "iopub.status.idle": "2021-07-04T05:07:07.517842Z",
     "shell.execute_reply": "2021-07-04T05:07:07.517438Z",
     "shell.execute_reply.started": "2021-07-03T08:19:20.417849Z"
    },
    "papermill": {
     "duration": 0.178772,
     "end_time": "2021-07-04T05:07:07.517965",
     "exception": false,
     "start_time": "2021-07-04T05:07:07.339193",
     "status": "completed"
    },
    "tags": []
   },
   "outputs": [],
   "source": [
    "np.random.seed(123)"
   ]
  },
  {
   "cell_type": "code",
   "execution_count": 4,
   "id": "twenty-mainland",
   "metadata": {
    "execution": {
     "iopub.execute_input": "2021-07-04T05:07:08.654663Z",
     "iopub.status.busy": "2021-07-04T05:07:08.652979Z",
     "iopub.status.idle": "2021-07-04T05:07:08.659486Z",
     "shell.execute_reply": "2021-07-04T05:07:08.658580Z",
     "shell.execute_reply.started": "2021-07-03T08:19:20.437803Z"
    },
    "papermill": {
     "duration": 0.971119,
     "end_time": "2021-07-04T05:07:08.659637",
     "exception": false,
     "start_time": "2021-07-04T05:07:07.688518",
     "status": "completed"
    },
    "tags": []
   },
   "outputs": [
    {
     "name": "stdout",
     "output_type": "stream",
     "text": [
      "Found GPU at: /device:GPU:0\n"
     ]
    }
   ],
   "source": [
    "device_name = tf.test.gpu_device_name()\n",
    "if device_name != '/device:GPU:0':\n",
    "  raise SystemError('GPU device not found')\n",
    "print('Found GPU at: {}'.format(device_name))"
   ]
  },
  {
   "cell_type": "code",
   "execution_count": 5,
   "id": "substantial-bristol",
   "metadata": {
    "execution": {
     "iopub.execute_input": "2021-07-04T05:07:09.041977Z",
     "iopub.status.busy": "2021-07-04T05:07:09.041401Z",
     "iopub.status.idle": "2021-07-04T05:07:09.903094Z",
     "shell.execute_reply": "2021-07-04T05:07:09.903536Z",
     "shell.execute_reply.started": "2021-07-03T08:19:21.223017Z"
    },
    "id": "GkB4O4qR7OtZ",
    "papermill": {
     "duration": 1.062563,
     "end_time": "2021-07-04T05:07:09.903706",
     "exception": false,
     "start_time": "2021-07-04T05:07:08.841143",
     "status": "completed"
    },
    "tags": []
   },
   "outputs": [],
   "source": [
    "df = pd.read_csv('../input/hotelreview/hotel-reviews.csv')"
   ]
  },
  {
   "cell_type": "code",
   "execution_count": 6,
   "id": "agricultural-parking",
   "metadata": {
    "execution": {
     "iopub.execute_input": "2021-07-04T05:07:10.265859Z",
     "iopub.status.busy": "2021-07-04T05:07:10.265140Z",
     "iopub.status.idle": "2021-07-04T05:07:10.267721Z",
     "shell.execute_reply": "2021-07-04T05:07:10.268153Z",
     "shell.execute_reply.started": "2021-07-03T08:19:22.659175Z"
    },
    "id": "91crPXm57TRl",
    "papermill": {
     "duration": 0.192195,
     "end_time": "2021-07-04T05:07:10.268307",
     "exception": false,
     "start_time": "2021-07-04T05:07:10.076112",
     "status": "completed"
    },
    "tags": []
   },
   "outputs": [],
   "source": [
    "x = df['Description']\n",
    "\n",
    "y = df[['Is_Response']]"
   ]
  },
  {
   "cell_type": "code",
   "execution_count": 7,
   "id": "israeli-split",
   "metadata": {
    "execution": {
     "iopub.execute_input": "2021-07-04T05:07:10.859777Z",
     "iopub.status.busy": "2021-07-04T05:07:10.838213Z",
     "iopub.status.idle": "2021-07-04T05:07:10.860750Z",
     "shell.execute_reply": "2021-07-04T05:07:10.861470Z",
     "shell.execute_reply.started": "2021-07-03T08:19:22.673312Z"
    },
    "id": "1gpy6xt87V9r",
    "papermill": {
     "duration": 0.326698,
     "end_time": "2021-07-04T05:07:10.861672",
     "exception": false,
     "start_time": "2021-07-04T05:07:10.534974",
     "status": "completed"
    },
    "tags": []
   },
   "outputs": [],
   "source": [
    "y = OneHotEncoder(sparse=False).fit_transform(y)"
   ]
  },
  {
   "cell_type": "code",
   "execution_count": 8,
   "id": "municipal-information",
   "metadata": {
    "execution": {
     "iopub.execute_input": "2021-07-04T05:07:11.221455Z",
     "iopub.status.busy": "2021-07-04T05:07:11.220732Z",
     "iopub.status.idle": "2021-07-04T05:07:11.230056Z",
     "shell.execute_reply": "2021-07-04T05:07:11.229631Z",
     "shell.execute_reply.started": "2021-07-03T08:19:22.696955Z"
    },
    "id": "xG8ZwNkn7XRM",
    "papermill": {
     "duration": 0.190399,
     "end_time": "2021-07-04T05:07:11.230166",
     "exception": false,
     "start_time": "2021-07-04T05:07:11.039767",
     "status": "completed"
    },
    "tags": []
   },
   "outputs": [],
   "source": [
    "x_train, x_test, y_train, y_test = train_test_split(x,y,test_size=0.2)\n",
    "x_test, x_val, y_test, y_val = train_test_split(x_test,y_test,test_size=0.5)"
   ]
  },
  {
   "cell_type": "code",
   "execution_count": 9,
   "id": "turkish-organization",
   "metadata": {
    "execution": {
     "iopub.execute_input": "2021-07-04T05:07:11.587207Z",
     "iopub.status.busy": "2021-07-04T05:07:11.585716Z",
     "iopub.status.idle": "2021-07-04T05:07:11.626430Z",
     "shell.execute_reply": "2021-07-04T05:07:11.625946Z",
     "shell.execute_reply.started": "2021-07-03T08:19:22.711346Z"
    },
    "id": "ESHsJqRo7YbS",
    "papermill": {
     "duration": 0.225801,
     "end_time": "2021-07-04T05:07:11.626556",
     "exception": false,
     "start_time": "2021-07-04T05:07:11.400755",
     "status": "completed"
    },
    "tags": []
   },
   "outputs": [],
   "source": [
    "train_ds = tf.data.Dataset.from_tensor_slices((x_train.values, y_train))\n",
    "test_ds = tf.data.Dataset.from_tensor_slices((x_test.values, y_test))\n",
    "validation_ds = tf.data.Dataset.from_tensor_slices((x_val.values,y_val))"
   ]
  },
  {
   "cell_type": "code",
   "execution_count": 10,
   "id": "hydraulic-parcel",
   "metadata": {
    "execution": {
     "iopub.execute_input": "2021-07-04T05:07:11.979261Z",
     "iopub.status.busy": "2021-07-04T05:07:11.978455Z",
     "iopub.status.idle": "2021-07-04T05:07:11.992807Z",
     "shell.execute_reply": "2021-07-04T05:07:11.992194Z",
     "shell.execute_reply.started": "2021-07-03T08:19:22.760649Z"
    },
    "id": "TM2G4QK47ZqX",
    "papermill": {
     "duration": 0.19428,
     "end_time": "2021-07-04T05:07:11.992968",
     "exception": false,
     "start_time": "2021-07-04T05:07:11.798688",
     "status": "completed"
    },
    "tags": []
   },
   "outputs": [
    {
     "name": "stdout",
     "output_type": "stream",
     "text": [
      "Features: b'We decided on this boutique hotel after reading reviews- PERFECT as far as location (- blocks to White House, etc.) and everything else that was important to us (service, cleanliness, not a chain) HIGHLY recommend...', Target: [1. 0.]\n",
      "Features: b\"I would just like to say that the Watertown in Seattle is a great find and can't wait to return \\r\\n-st: Breakfast is wonderful and complimentary not just the regular bagel and coffee they have eggs great selection of juices and bacon plus a lot more\\r\\n-nd The room big, clean, modern, with some nice views, plus some extra features like there cart services \\r\\n-rd The price and the customer service in my opinion cannot be beat the beautiful ladies there were fast, courteous, and seemed to really care that you are there try finding that a holiday inn or red roof inn\\r\\n-th the shuttle is a wonderful service free but you should tip the guy takes you write to the space nettle and a couple of blokes from pikes place what more do you want\", Target: [1. 0.]\n",
      "Features: b'Stayed at this \"\"\"\"\"\"\"\"\"\"\"\"\"\"\"\"\"\"\"\"\"\"\"\"\"\"\"\"\"\"\"\"resort\"\"\"\"\"\"\"\"\"\"\"\"\"\"\"\"\"\"\"\"\"\"\"\"\"\"\"\"\"\"\"\" for - days in August. Coincidentally before our stay, USA Today published an article about how great the pool area was. Perhaps this set expectations too high, as this resort was a huge disappointment.\\r\\nOn the plus side, the grounds and overall property and design were very nice. Rooms has a garden, floral design and bathroom was huge with a nice shower. There is a nice computer system for rent in each room, and you could use it to efficiently make requests to the front desk or housekeeping (this part of the system was free). Property is also located next to Desert Ridge mall where you can find a bunch of shopping, restaurants, Target, etc.\\r\\nHowever, the resort experience left alot to be desired. The key item, as mentioned in other posts, is a faulty air conditioning system. The hallways smelled damp and musky. While the room A-C was better, it never cooled sufficiently or removed the humidity levels. Further, the pool area was awful. This could have been a result of this weekend being the most busy in the season (heard through another guest as claimed by their staff), but there were no seats, used food plates everywhere. It didn\\'t quite live up to their Top -- billing in USA Today.\\r\\nHoping these guys will clean up their act and make this worth of the J.W. Marriott brand.', Target: [0. 1.]\n",
      "Features: b'I have stayed at this hotel before and you cannot ask for a more safe and convenient place to stay on a visit to El Paso. In addition, the entire staff is pleasent to work with and you are treated very well.', Target: [1. 0.]\n",
      "Features: b'This is a comfortable hotel and Dog Friendly. We expected a less than desirable room since we were traveling with my daughters - dogs. But pleasantly surprised with the room, pool and hot tub area was clean and accommodating. Breakfast had a waffle machine and was well serviced. Beds are double, but comfortable. Area was safe as we had a moving truck parked in the lot, with no issues.', Target: [1. 0.]\n"
     ]
    }
   ],
   "source": [
    "for feat, targ in train_ds.take(5):\n",
    "    print ('Features: {}, Target: {}'.format(feat, targ))"
   ]
  },
  {
   "cell_type": "code",
   "execution_count": 11,
   "id": "written-clone",
   "metadata": {
    "execution": {
     "iopub.execute_input": "2021-07-04T05:07:12.346165Z",
     "iopub.status.busy": "2021-07-04T05:07:12.345048Z",
     "iopub.status.idle": "2021-07-04T05:07:12.348699Z",
     "shell.execute_reply": "2021-07-04T05:07:12.349075Z",
     "shell.execute_reply.started": "2021-07-03T08:19:22.77793Z"
    },
    "id": "GBikXAvt7bkD",
    "papermill": {
     "duration": 0.183478,
     "end_time": "2021-07-04T05:07:12.349214",
     "exception": false,
     "start_time": "2021-07-04T05:07:12.165736",
     "status": "completed"
    },
    "tags": []
   },
   "outputs": [],
   "source": [
    "batch_size = 8\n",
    "train_ds = train_ds.batch(batch_size)\n",
    "test_ds = test_ds.batch(batch_size)\n",
    "validation_ds = validation_ds.batch(batch_size)\n",
    "model_selected = 'https://tfhub.dev/tensorflow/bert_en_uncased_L-24_H-1024_A-16/4'\n",
    "preprocessing_used = 'https://tfhub.dev/tensorflow/bert_en_uncased_preprocess/3'"
   ]
  },
  {
   "cell_type": "code",
   "execution_count": 12,
   "id": "overhead-vacation",
   "metadata": {
    "execution": {
     "iopub.execute_input": "2021-07-04T05:07:12.703269Z",
     "iopub.status.busy": "2021-07-04T05:07:12.700181Z",
     "iopub.status.idle": "2021-07-04T05:07:15.588316Z",
     "shell.execute_reply": "2021-07-04T05:07:15.588756Z",
     "shell.execute_reply.started": "2021-07-03T08:37:44.796633Z"
    },
    "papermill": {
     "duration": 3.068053,
     "end_time": "2021-07-04T05:07:15.588914",
     "exception": false,
     "start_time": "2021-07-04T05:07:12.520861",
     "status": "completed"
    },
    "tags": []
   },
   "outputs": [
    {
     "name": "stdout",
     "output_type": "stream",
     "text": [
      "Keys       : ['input_mask', 'input_type_ids', 'input_word_ids']\n",
      "Shape      : (1, 128)\n",
      "Word Ids   : [[  101  1996  2282  2001  2785  1997  4550  2021  2018  1037  2200  2844\n",
      "   5437  1997  6077  1012  3227  2917  2779  2021  7929  2005  1037 11585\n",
      "   2994  2065  2017  1005  2128  2025  2205 28554  2100  1012  2052  5136\n",
      "   6595  2153  2065  1996  3976  2001  2157  1012  6350  2001  2489  1998\n",
      "   2074  2055  2488  2084  2498  1012   102     0     0     0     0     0\n",
      "      0     0     0     0     0     0     0     0     0     0     0     0\n",
      "      0     0     0     0     0     0     0     0     0     0     0     0\n",
      "      0     0     0     0     0     0     0     0     0     0     0     0\n",
      "      0     0     0     0     0     0     0     0     0     0     0     0\n",
      "      0     0     0     0     0     0     0     0     0     0     0     0\n",
      "      0     0     0     0     0     0     0     0]]\n",
      "Input Mask : [[1 1 1 1 1 1 1 1 1 1 1 1 1 1 1 1 1 1 1 1 1 1 1 1 1 1 1 1 1 1 1 1 1 1 1 1\n",
      "  1 1 1 1 1 1 1 1 1 1 1 1 1 1 1 1 1 1 1 0 0 0 0 0 0 0 0 0 0 0 0 0 0 0 0 0\n",
      "  0 0 0 0 0 0 0 0 0 0 0 0 0 0 0 0 0 0 0 0 0 0 0 0 0 0 0 0 0 0 0 0 0 0 0 0\n",
      "  0 0 0 0 0 0 0 0 0 0 0 0 0 0 0 0 0 0 0 0]]\n",
      "Type Ids   : [[0 0 0 0 0 0 0 0 0 0 0 0 0 0 0 0 0 0 0 0 0 0 0 0 0 0 0 0 0 0 0 0 0 0 0 0\n",
      "  0 0 0 0 0 0 0 0 0 0 0 0 0 0 0 0 0 0 0 0 0 0 0 0 0 0 0 0 0 0 0 0 0 0 0 0\n",
      "  0 0 0 0 0 0 0 0 0 0 0 0 0 0 0 0 0 0 0 0 0 0 0 0 0 0 0 0 0 0 0 0 0 0 0 0\n",
      "  0 0 0 0 0 0 0 0 0 0 0 0 0 0 0 0 0 0 0 0]]\n"
     ]
    }
   ],
   "source": [
    "preprocessing = tf_hub.KerasLayer(preprocessing_used, name='bert_uncased_preprocessing')\n",
    "text_test = [\"The room was kind of clean but had a VERY strong smell of dogs. Generally below average but ok for a overnight stay if you're not too fussy. Would consider staying again if the price was right. Breakfast was free and just about better than nothing.\"]\n",
    "text_preprocessed = preprocessing(text_test)\n",
    "\n",
    "print(f'Keys       : {list(text_preprocessed.keys())}')\n",
    "print(f'Shape      : {text_preprocessed[\"input_word_ids\"].shape}')\n",
    "print(f'Word Ids   : {text_preprocessed[\"input_word_ids\"]}')\n",
    "print(f'Input Mask : {text_preprocessed[\"input_mask\"]}')\n",
    "print(f'Type Ids   : {text_preprocessed[\"input_type_ids\"]}')"
   ]
  },
  {
   "cell_type": "code",
   "execution_count": 13,
   "id": "designed-nursery",
   "metadata": {
    "execution": {
     "iopub.execute_input": "2021-07-04T05:07:15.958853Z",
     "iopub.status.busy": "2021-07-04T05:07:15.956317Z",
     "iopub.status.idle": "2021-07-04T05:07:15.962832Z",
     "shell.execute_reply": "2021-07-04T05:07:15.963955Z"
    },
    "id": "dl7Uso4P7dCc",
    "papermill": {
     "duration": 0.204051,
     "end_time": "2021-07-04T05:07:15.964175",
     "exception": false,
     "start_time": "2021-07-04T05:07:15.760124",
     "status": "completed"
    },
    "tags": []
   },
   "outputs": [],
   "source": [
    "def model_build():\n",
    "    input = tf.keras.layers.Input(shape=(), dtype=tf.string, name='text_input')\n",
    "    preprocessing = tf_hub.KerasLayer(preprocessing_used, name='bert_uncased_preprocessing')\n",
    "    BERT_input = preprocessing(input)\n",
    "    BERT = tf_hub.KerasLayer(model_selected,trainable=True, name='BERT_Large')\n",
    "    BERT_output = BERT(BERT_input)\n",
    "    output = BERT_output['pooled_output']\n",
    "    output = tf.keras.layers.Dropout(0.5)(output)\n",
    "    output = tf.keras.layers.Dense(2, activation='softmax', name='output_layer')(output)\n",
    "\n",
    "    return tf.keras.Model(input,output)"
   ]
  },
  {
   "cell_type": "code",
   "execution_count": 14,
   "id": "contrary-suggestion",
   "metadata": {
    "execution": {
     "iopub.execute_input": "2021-07-04T05:07:16.560426Z",
     "iopub.status.busy": "2021-07-04T05:07:16.559528Z",
     "iopub.status.idle": "2021-07-04T05:07:56.603587Z",
     "shell.execute_reply": "2021-07-04T05:07:56.603039Z"
    },
    "papermill": {
     "duration": 40.347261,
     "end_time": "2021-07-04T05:07:56.603728",
     "exception": false,
     "start_time": "2021-07-04T05:07:16.256467",
     "status": "completed"
    },
    "tags": []
   },
   "outputs": [],
   "source": [
    "model = model_build()"
   ]
  },
  {
   "cell_type": "code",
   "execution_count": 15,
   "id": "exact-health",
   "metadata": {
    "execution": {
     "iopub.execute_input": "2021-07-04T05:07:56.953439Z",
     "iopub.status.busy": "2021-07-04T05:07:56.952867Z",
     "iopub.status.idle": "2021-07-04T05:07:56.959131Z",
     "shell.execute_reply": "2021-07-04T05:07:56.958735Z"
    },
    "papermill": {
     "duration": 0.184835,
     "end_time": "2021-07-04T05:07:56.959244",
     "exception": false,
     "start_time": "2021-07-04T05:07:56.774409",
     "status": "completed"
    },
    "tags": []
   },
   "outputs": [],
   "source": [
    "epochs = 8\n",
    "steps = tf.data.experimental.cardinality(train_ds).numpy()\n",
    "num_train_steps = steps * epochs\n",
    "warmup = int(0.1*num_train_steps)\n",
    "\n",
    "starting_lr = 1e-6\n",
    "optimizer_AdamW2= optimization.create_optimizer(init_lr=starting_lr,\n",
    "                                          num_train_steps=num_train_steps,\n",
    "                                          num_warmup_steps=warmup,\n",
    "                                          optimizer_type='adamw')"
   ]
  },
  {
   "cell_type": "code",
   "execution_count": 16,
   "id": "central-pastor",
   "metadata": {
    "execution": {
     "iopub.execute_input": "2021-07-04T05:07:57.320436Z",
     "iopub.status.busy": "2021-07-04T05:07:57.319547Z",
     "iopub.status.idle": "2021-07-04T05:07:57.326166Z",
     "shell.execute_reply": "2021-07-04T05:07:57.325757Z"
    },
    "id": "8JFv-t8N7lHA",
    "papermill": {
     "duration": 0.192875,
     "end_time": "2021-07-04T05:07:57.326279",
     "exception": false,
     "start_time": "2021-07-04T05:07:57.133404",
     "status": "completed"
    },
    "tags": []
   },
   "outputs": [],
   "source": [
    "optimizer = tf.keras.optimizers.Adam(learning_rate=1e-6)\n",
    "model.compile(optimizer = optimizer, loss='categorical_crossentropy', metrics='accuracy')"
   ]
  },
  {
   "cell_type": "markdown",
   "id": "imposed-array",
   "metadata": {
    "id": "9LObveBLgZSS",
    "papermill": {
     "duration": 0.170271,
     "end_time": "2021-07-04T05:07:57.666492",
     "exception": false,
     "start_time": "2021-07-04T05:07:57.496221",
     "status": "completed"
    },
    "tags": []
   },
   "source": [
    "Hyperparameter: Batch Size(2,4), learning rate(1e-5,1e-4),preprocessing (cased)\n",
    "\n",
    "\n",
    "control, Batch size 8, l_rate 1e-6, preprocessing uncased"
   ]
  },
  {
   "cell_type": "code",
   "execution_count": 17,
   "id": "prescription-superior",
   "metadata": {
    "execution": {
     "iopub.execute_input": "2021-07-04T05:07:58.014746Z",
     "iopub.status.busy": "2021-07-04T05:07:58.014036Z",
     "iopub.status.idle": "2021-07-04T05:07:58.017642Z",
     "shell.execute_reply": "2021-07-04T05:07:58.017177Z"
    },
    "id": "0tmikP93lou1",
    "papermill": {
     "duration": 0.180298,
     "end_time": "2021-07-04T05:07:58.017763",
     "exception": false,
     "start_time": "2021-07-04T05:07:57.837465",
     "status": "completed"
    },
    "tags": []
   },
   "outputs": [],
   "source": [
    "logger = tf.keras.callbacks.CSVLogger(\n",
    "    'training_log_BERT_uncased.csv', separator=',', append=True\n",
    ")\n",
    "checkpoint = tf.keras.callbacks.ModelCheckpoint(    \n",
    "    filepath='/savedmodel',\n",
    "    monitor='val_accuracy',\n",
    "    mode='max',\n",
    "    save_best_only=True\n",
    ")"
   ]
  },
  {
   "cell_type": "code",
   "execution_count": 18,
   "id": "infectious-waters",
   "metadata": {
    "execution": {
     "iopub.execute_input": "2021-07-04T05:07:58.408512Z",
     "iopub.status.busy": "2021-07-04T05:07:58.407629Z",
     "iopub.status.idle": "2021-07-04T09:08:46.641086Z",
     "shell.execute_reply": "2021-07-04T09:08:46.641920Z"
    },
    "id": "Lnxz-Ehq7ngd",
    "papermill": {
     "duration": 14448.452014,
     "end_time": "2021-07-04T09:08:46.642157",
     "exception": false,
     "start_time": "2021-07-04T05:07:58.190143",
     "status": "completed"
    },
    "tags": []
   },
   "outputs": [
    {
     "name": "stdout",
     "output_type": "stream",
     "text": [
      "Epoch 1/8\n",
      "3894/3894 [==============================] - 1781s 450ms/step - loss: 0.5140 - accuracy: 0.7647 - val_loss: 0.2875 - val_accuracy: 0.8806\n",
      "Epoch 2/8\n",
      "3894/3894 [==============================] - 1755s 451ms/step - loss: 0.2956 - accuracy: 0.8812 - val_loss: 0.2750 - val_accuracy: 0.8875\n",
      "Epoch 3/8\n",
      "3894/3894 [==============================] - 1759s 452ms/step - loss: 0.2662 - accuracy: 0.8919 - val_loss: 0.2718 - val_accuracy: 0.8885\n",
      "Epoch 4/8\n",
      "3894/3894 [==============================] - 1761s 452ms/step - loss: 0.2481 - accuracy: 0.8987 - val_loss: 0.2713 - val_accuracy: 0.8908\n",
      "Epoch 5/8\n",
      "3894/3894 [==============================] - 1758s 451ms/step - loss: 0.2281 - accuracy: 0.9092 - val_loss: 0.2710 - val_accuracy: 0.8926\n",
      "Epoch 6/8\n",
      "3894/3894 [==============================] - 1760s 452ms/step - loss: 0.2092 - accuracy: 0.9166 - val_loss: 0.2844 - val_accuracy: 0.8924\n",
      "Epoch 7/8\n",
      "3894/3894 [==============================] - 1759s 452ms/step - loss: 0.1870 - accuracy: 0.9270 - val_loss: 0.3056 - val_accuracy: 0.8913\n",
      "Epoch 8/8\n",
      "3894/3894 [==============================] - 1760s 452ms/step - loss: 0.1594 - accuracy: 0.9394 - val_loss: 0.3340 - val_accuracy: 0.8854\n"
     ]
    }
   ],
   "source": [
    "model_train = model.fit(train_ds, validation_data = test_ds, epochs=epochs,callbacks = [logger,checkpoint])"
   ]
  },
  {
   "cell_type": "code",
   "execution_count": 19,
   "id": "familiar-phrase",
   "metadata": {
    "execution": {
     "iopub.execute_input": "2021-07-04T09:09:04.198548Z",
     "iopub.status.busy": "2021-07-04T09:09:04.197105Z",
     "iopub.status.idle": "2021-07-04T09:09:04.199384Z",
     "shell.execute_reply": "2021-07-04T09:09:04.199816Z"
    },
    "papermill": {
     "duration": 8.521698,
     "end_time": "2021-07-04T09:09:04.199953",
     "exception": false,
     "start_time": "2021-07-04T09:08:55.678255",
     "status": "completed"
    },
    "tags": []
   },
   "outputs": [],
   "source": [
    "import matplotlib.pyplot as plt"
   ]
  },
  {
   "cell_type": "code",
   "execution_count": 20,
   "id": "artistic-lexington",
   "metadata": {
    "execution": {
     "iopub.execute_input": "2021-07-04T09:09:21.220697Z",
     "iopub.status.busy": "2021-07-04T09:09:21.220064Z",
     "iopub.status.idle": "2021-07-04T09:09:21.884037Z",
     "shell.execute_reply": "2021-07-04T09:09:21.883259Z"
    },
    "id": "6yUn6re3lmU6",
    "papermill": {
     "duration": 9.285853,
     "end_time": "2021-07-04T09:09:21.884252",
     "exception": false,
     "start_time": "2021-07-04T09:09:12.598399",
     "status": "completed"
    },
    "tags": []
   },
   "outputs": [
    {
     "data": {
      "image/png": "[encoded data removed]",
      "text/plain": [
       "<Figure size 432x288 with 1 Axes>"
      ]
     },
     "metadata": {
      "needs_background": "light"
     },
     "output_type": "display_data"
    },
    {
     "data": {
      "image/png": "[encoded data removed]",
      "text/plain": [
       "<Figure size 432x288 with 1 Axes>"
      ]
     },
     "metadata": {
      "needs_background": "light"
     },
     "output_type": "display_data"
    }
   ],
   "source": [
    "def plot_hist(hist):\n",
    "    plt.plot(hist.history[\"accuracy\"])\n",
    "    plt.plot(hist.history[\"val_accuracy\"])\n",
    "    plt.title(\"model accuracy\")\n",
    "    plt.ylabel(\"accuracy\")\n",
    "    plt.xlabel(\"epoch\")\n",
    "    plt.legend([\"train\", \"validation\"], loc=\"upper left\")\n",
    "\n",
    "\n",
    "def plot_hist_loss(hist):\n",
    "    plt.plot(hist.history[\"loss\"])\n",
    "    plt.plot(hist.history[\"val_loss\"])\n",
    "    plt.title(\"model loss\")\n",
    "    plt.ylabel(\"loss\")\n",
    "    plt.xlabel(\"epoch\")\n",
    "    plt.legend([\"train\", \"validation\"], loc=\"upper left\")\n",
    "\n",
    "\n",
    "\n",
    "plot_hist(model_train)\n",
    "plt.savefig(f'Accuracy_uncased.png')\n",
    "plt.show()\n",
    "\n",
    "plot_hist_loss(model_train)\n",
    "plt.savefig(f'Loss_uncased.png')\n",
    "plt.show()"
   ]
  },
  {
   "cell_type": "code",
   "execution_count": 21,
   "id": "alternative-france",
   "metadata": {
    "execution": {
     "iopub.execute_input": "2021-07-04T09:09:38.851721Z",
     "iopub.status.busy": "2021-07-04T09:09:38.850917Z",
     "iopub.status.idle": "2021-07-04T09:10:51.781820Z",
     "shell.execute_reply": "2021-07-04T09:10:51.718767Z"
    },
    "papermill": {
     "duration": 81.367797,
     "end_time": "2021-07-04T09:10:51.781979",
     "exception": false,
     "start_time": "2021-07-04T09:09:30.414182",
     "status": "completed"
    },
    "tags": []
   },
   "outputs": [
    {
     "name": "stdout",
     "output_type": "stream",
     "text": [
      "487/487 [==============================] - 72s 147ms/step - loss: 0.3152 - accuracy: 0.8852\n"
     ]
    },
    {
     "data": {
      "text/plain": [
       "[0.315192848443985, 0.885208010673523]"
      ]
     },
     "execution_count": 21,
     "metadata": {},
     "output_type": "execute_result"
    }
   ],
   "source": [
    "model.evaluate(validation_ds)"
   ]
  },
  {
   "cell_type": "code",
   "execution_count": 22,
   "id": "looking-object",
   "metadata": {
    "execution": {
     "iopub.execute_input": "2021-07-04T09:11:09.467649Z",
     "iopub.status.busy": "2021-07-04T09:11:09.466804Z",
     "iopub.status.idle": "2021-07-04T09:12:26.056889Z",
     "shell.execute_reply": "2021-07-04T09:12:26.056040Z"
    },
    "papermill": {
     "duration": 84.905684,
     "end_time": "2021-07-04T09:12:26.057350",
     "exception": true,
     "start_time": "2021-07-04T09:11:01.151666",
     "status": "failed"
    },
    "tags": []
   },
   "outputs": [
    {
     "name": "stdout",
     "output_type": "stream",
     "text": [
      "tf.Tensor([0 0 0 ... 0 0 0], shape=(3894,), dtype=int64)\n",
      "tf.Tensor([0 0 0 ... 0 0 0], shape=(3894,), dtype=int64)\n",
      "[[2477  232]\n",
      " [ 215  970]]\n"
     ]
    },
    {
     "ename": "NameError",
     "evalue": "name 'classification_report' is not defined",
     "output_type": "error",
     "traceback": [
      "\u001b[0;31m---------------------------------------------------------------------------\u001b[0m",
      "\u001b[0;31mNameError\u001b[0m                                 Traceback (most recent call last)",
      "\u001b[0;32m<ipython-input-22-bab556db3b41>\u001b[0m in \u001b[0;36m<module>\u001b[0;34m\u001b[0m\n\u001b[1;32m     13\u001b[0m \u001b[0mprint\u001b[0m\u001b[0;34m(\u001b[0m\u001b[0mconfusion\u001b[0m\u001b[0;34m)\u001b[0m\u001b[0;34m\u001b[0m\u001b[0;34m\u001b[0m\u001b[0m\n\u001b[1;32m     14\u001b[0m \u001b[0mtarget_names\u001b[0m \u001b[0;34m=\u001b[0m \u001b[0;34m[\u001b[0m\u001b[0;34m'P'\u001b[0m\u001b[0;34m,\u001b[0m\u001b[0;34m'N'\u001b[0m\u001b[0;34m]\u001b[0m\u001b[0;34m\u001b[0m\u001b[0;34m\u001b[0m\u001b[0m\n\u001b[0;32m---> 15\u001b[0;31m \u001b[0mprint\u001b[0m\u001b[0;34m(\u001b[0m\u001b[0mclassification_report\u001b[0m\u001b[0;34m(\u001b[0m\u001b[0mpredicted_categories\u001b[0m\u001b[0;34m,\u001b[0m\u001b[0mtrue_categories\u001b[0m\u001b[0;34m,\u001b[0m \u001b[0mtarget_names\u001b[0m\u001b[0;34m=\u001b[0m\u001b[0mtarget_names\u001b[0m\u001b[0;34m)\u001b[0m\u001b[0;34m)\u001b[0m\u001b[0;34m\u001b[0m\u001b[0;34m\u001b[0m\u001b[0m\n\u001b[0m\u001b[1;32m     16\u001b[0m \u001b[0;34m\u001b[0m\u001b[0m\n\u001b[1;32m     17\u001b[0m \u001b[0;32mfrom\u001b[0m \u001b[0msklearn\u001b[0m\u001b[0;34m.\u001b[0m\u001b[0mmetrics\u001b[0m \u001b[0;32mimport\u001b[0m \u001b[0mConfusionMatrixDisplay\u001b[0m\u001b[0;34m\u001b[0m\u001b[0;34m\u001b[0m\u001b[0m\n",
      "\u001b[0;31mNameError\u001b[0m: name 'classification_report' is not defined"
     ]
    }
   ],
   "source": [
    "from sklearn.metrics import confusion_matrix\n",
    "y_prediction = model.predict(validation_ds)\n",
    "\n",
    "predicted_categories = tf.argmax(y_prediction, axis=1)\n",
    "\n",
    "\n",
    "true_categories = tf.concat([y for x, y in validation_ds], axis=0)\n",
    "true_categories = tf.argmax(true_categories, axis=1)\n",
    "\n",
    "confusion = confusion_matrix(predicted_categories, true_categories)\n",
    "print(true_categories)\n",
    "print(predicted_categories)\n",
    "print(confusion)\n",
    "target_names = ['P','N']\n",
    "print(classification_report(predicted_categories,true_categories, target_names=target_names))\n",
    "\n",
    "from sklearn.metrics import ConfusionMatrixDisplay\n",
    "\n",
    "conf_plot =ConfusionMatrixDisplay(confusion_matrix=confusion, display_labels=target_names)\n",
    "conf_plot.plot()\n",
    "plt.show()\n",
    "plt.figure(figsize=(10, 10))\n",
    "for images, labels in validation_ds.take(1):\n",
    "    for i in range(9):\n",
    "        ax = plt.subplot(3, 3, i + 1)\n",
    "        plt.imshow(images[i].numpy().astype(\"uint8\"))\n",
    "        plt.title(class_names[labels[i]])\n",
    "        plt.title(class_names[predicted_categories[i]])\n",
    "        plt.axis(\"off\")\n",
    "\n",
    "plt.show()"
   ]
  }
 ],
 "metadata": {
  "kernelspec": {
   "display_name": "Python 3",
   "language": "python",
   "name": "python3"
  },
  "language_info": {
   "codemirror_mode": {
    "name": "ipython",
    "version": 3
   },
   "file_extension": ".py",
   "mimetype": "text/x-python",
   "name": "python",
   "nbconvert_exporter": "python",
   "pygments_lexer": "ipython3",
   "version": "3.7.10"
  },
  "papermill": {
   "default_parameters": {},
   "duration": 14848.521323,
   "end_time": "2021-07-04T09:12:39.016822",
   "environment_variables": {},
   "exception": true,
   "input_path": "__notebook__.ipynb",
   "output_path": "__notebook__.ipynb",
   "parameters": {},
   "start_time": "2021-07-04T05:05:10.495499",
   "version": "2.3.3"
  }
 },
 "nbformat": 4,
 "nbformat_minor": 5
}
